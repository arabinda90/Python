{
 "cells": [
  {
   "cell_type": "code",
   "execution_count": null,
   "id": "1f7619fa-b5a0-4d4a-821a-98c79843ea20",
   "metadata": {},
   "outputs": [],
   "source": [
    "# Finally sucess full result got"
   ]
  },
  {
   "cell_type": "code",
   "execution_count": 7,
   "id": "3946793b-9c8e-437d-90bc-969a4423d505",
   "metadata": {},
   "outputs": [
    {
     "name": "stdout",
     "output_type": "stream",
     "text": [
      "LabelMe format data saved to D:/E/Delet/yolo/13_ID42.json\n"
     ]
    }
   ],
   "source": [
    "import rasterio\n",
    "import shapefile\n",
    "import json\n",
    "from shapely.geometry import shape, Polygon\n",
    "import base64\n",
    "\n",
    "# Paths to the image and shapefile\n",
    "image_path = \"D:/E/Delet/yolo/13_ID42.tif\"\n",
    "shapefile_path = \"D:/E/Delet/yolo/13_ID42_combined.shp\"\n",
    "\n",
    "# Read the image to get its dimensions and transformation\n",
    "with rasterio.open(image_path) as src:\n",
    "    width, height = src.width, src.height\n",
    "    transform = src.transform\n",
    "    image_data = src.read(1)\n",
    "\n",
    "# Read the shapefile\n",
    "sf = shapefile.Reader(shapefile_path)\n",
    "\n",
    "# Initialize a list to store the shapes\n",
    "shapes = []\n",
    "\n",
    "# Function to convert coordinates to pixel row and column\n",
    "def coords_to_pixel(x, y, transform):\n",
    "    col, row = ~transform * (x, y)\n",
    "    return col, row\n",
    "\n",
    "# Loop through each shape in the shapefile\n",
    "for shape_record in sf.shapeRecords():\n",
    "    label = shape_record.record['Tree_sp']  # Assuming the label is stored in the attribute table\n",
    "    geom = shape(shape_record.shape.__geo_interface__)\n",
    "    \n",
    "    if isinstance(geom, Polygon):\n",
    "        points = list(geom.exterior.coords)\n",
    "    else:\n",
    "        points = []\n",
    "\n",
    "    # Convert coordinates to pixel row and column\n",
    "    pixel_points = [coords_to_pixel(x, y, transform) for x, y in points]\n",
    "\n",
    "    # Create the shape\n",
    "    shape_data = {\n",
    "        \"label\": label,\n",
    "        \"points\": [[float(col), float(row)] for col, row in pixel_points],\n",
    "        \"group_id\": None,\n",
    "        \"description\": \"\",\n",
    "        \"shape_type\": \"polygon\",\n",
    "        \"flags\": {},\n",
    "        \"mask\": None\n",
    "    }\n",
    "\n",
    "    shapes.append(shape_data)\n",
    "\n",
    "# Read and encode the image data\n",
    "with open(image_path, \"rb\") as image_file:\n",
    "    encoded_image_data = base64.b64encode(image_file.read()).decode('utf-8')\n",
    "\n",
    "# Create the JSON data\n",
    "json_data = {\n",
    "    \"version\": \"5.5.0\",\n",
    "    \"flags\": {},\n",
    "    \"shapes\": shapes,\n",
    "    \"imagePath\": image_path.split('/')[-1].replace('.tif', '.jpg'),\n",
    "    \"imageData\": encoded_image_data,\n",
    "    \"imageHeight\": height,\n",
    "    \"imageWidth\": width\n",
    "}\n",
    "\n",
    "# Save the JSON data to a file\n",
    "output_path = \"D:/E/Delet/yolo/13_ID42.json\"\n",
    "with open(output_path, 'w') as f:\n",
    "    json.dump(json_data, f, indent=4)\n",
    "\n",
    "print(f\"LabelMe format data saved to {output_path}\")\n"
   ]
  },
  {
   "cell_type": "code",
   "execution_count": null,
   "id": "0e7434a3-6bc4-4a14-8099-cecc06a522f9",
   "metadata": {},
   "outputs": [],
   "source": [
    "#labelme2yolo --json_dir /path/to/labelme_json_dir/"
   ]
  }
 ],
 "metadata": {
  "kernelspec": {
   "display_name": "Python 3 (ipykernel)",
   "language": "python",
   "name": "python3"
  },
  "language_info": {
   "codemirror_mode": {
    "name": "ipython",
    "version": 3
   },
   "file_extension": ".py",
   "mimetype": "text/x-python",
   "name": "python",
   "nbconvert_exporter": "python",
   "pygments_lexer": "ipython3",
   "version": "3.8.19"
  }
 },
 "nbformat": 4,
 "nbformat_minor": 5
}
