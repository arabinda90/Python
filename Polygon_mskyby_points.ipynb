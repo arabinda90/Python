{
 "cells": [
  {
   "cell_type": "markdown",
   "id": "9a147535-97d9-4777-9c6a-80786fa3b665",
   "metadata": {},
   "source": [
    "# tree cown mask by overlap GPS field data "
   ]
  },
  {
   "cell_type": "code",
   "execution_count": null,
   "id": "2a1a367e-dae8-4407-9b3a-e81175fab229",
   "metadata": {},
   "outputs": [],
   "source": [
    "# For single file process\n",
    "import geopandas as gpd\n",
    "\n",
    "# Load the point shapefile\n",
    "points = gpd.read_file(\"D:/E/Delet/yolo/shp_clip/Tree_species_SDCC_match.shp\")\n",
    "\n",
    "# Load the crown shapefile\n",
    "crowns = gpd.read_file(\"D:/E/Delet/yolo/shp_clip/100_ID42_combined.shp\")\n",
    "\n",
    "# Ensure both files use the same CRS\n",
    "if points.crs != crowns.crs:\n",
    "    points = points.to_crs(crowns.crs)\n",
    "\n",
    "# Perform a spatial join to get polygons that have overlapping points\n",
    "joined = gpd.sjoin(crowns, points, how=\"inner\", op=\"intersects\")\n",
    "\n",
    "# Select unique polygons from the join result\n",
    "masked_crowns = crowns[crowns.index.isin(joined.index)]\n",
    "\n",
    "# Step 4: Add the 'Species_Co' column from point_file to the crown_file\n",
    "masked_crowns_sp = masked_crowns.assign(Species_Co=joined['Species_Co'].values)\n",
    "\n",
    "\n",
    "# Export the masked crowns to a new shapefile\n",
    "masked_crowns_sp.to_file(\"D:/E/Delet/yolo/shp_clip/sp/masked_crowns_sp.shp\")\n"
   ]
  },
  {
   "cell_type": "code",
   "execution_count": 1,
   "id": "2b9c2929-e885-42b1-bf17-b04a637ac3a7",
   "metadata": {},
   "outputs": [],
   "source": [
    "# For multiple files"
   ]
  },
  {
   "cell_type": "code",
   "execution_count": 4,
   "id": "c8fb5a89-2bfe-4237-8542-56c2180bd098",
   "metadata": {},
   "outputs": [
    {
     "name": "stderr",
     "output_type": "stream",
     "text": [
      "C:\\Users\\maiti\\miniconda3\\envs\\yolo\\lib\\site-packages\\IPython\\core\\interactiveshell.py:3448: FutureWarning: The `op` parameter is deprecated and will be removed in a future release. Please use the `predicate` parameter instead.\n",
      "  if await self.run_code(code, result, async_=asy):\n"
     ]
    },
    {
     "name": "stdout",
     "output_type": "stream",
     "text": [
      "Processed and saved: D:/E/Delet/yolo/shp_clip/spp/100_ID42_combined.shp\n",
      "Processed and saved: D:/E/Delet/yolo/shp_clip/spp/58_ID42_combined.shp\n"
     ]
    },
    {
     "name": "stderr",
     "output_type": "stream",
     "text": [
      "C:\\Users\\maiti\\miniconda3\\envs\\yolo\\lib\\site-packages\\IPython\\core\\interactiveshell.py:3448: FutureWarning: The `op` parameter is deprecated and will be removed in a future release. Please use the `predicate` parameter instead.\n",
      "  if await self.run_code(code, result, async_=asy):\n",
      "C:\\Users\\maiti\\miniconda3\\envs\\yolo\\lib\\site-packages\\IPython\\core\\interactiveshell.py:3448: FutureWarning: The `op` parameter is deprecated and will be removed in a future release. Please use the `predicate` parameter instead.\n",
      "  if await self.run_code(code, result, async_=asy):\n"
     ]
    },
    {
     "name": "stdout",
     "output_type": "stream",
     "text": [
      "Processed and saved: D:/E/Delet/yolo/shp_clip/spp/59_ID42_combined.shp\n",
      "Skipped: 86_ID42_combined.shp (no overlapping polygons)\n",
      "Processing complete for all crown files.\n"
     ]
    },
    {
     "name": "stderr",
     "output_type": "stream",
     "text": [
      "C:\\Users\\maiti\\miniconda3\\envs\\yolo\\lib\\site-packages\\IPython\\core\\interactiveshell.py:3448: FutureWarning: The `op` parameter is deprecated and will be removed in a future release. Please use the `predicate` parameter instead.\n",
      "  if await self.run_code(code, result, async_=asy):\n"
     ]
    }
   ],
   "source": [
    "import os\n",
    "import geopandas as gpd\n",
    "\n",
    "# Define the directories\n",
    "points_filepath = \"D:/E/Delet/yolo/shp_clip/gps/Tree_species_SDCC_match.shp\"\n",
    "crowns_directory = \"D:/E/Delet/yolo/shp_clip/\"\n",
    "output_directory = \"D:/E/Delet/yolo/shp_clip/spp/\"\n",
    "\n",
    "# Load the points shapefile\n",
    "points = gpd.read_file(points_filepath)\n",
    "\n",
    "# Loop through each crown shapefile in the directory\n",
    "for crown_filename in os.listdir(crowns_directory):\n",
    "    if crown_filename.endswith(\".shp\") and crown_filename != os.path.basename(points_filepath):\n",
    "        crown_filepath = os.path.join(crowns_directory, crown_filename)\n",
    "\n",
    "        # Load the crown shapefile\n",
    "        crowns = gpd.read_file(crown_filepath)\n",
    "\n",
    "        # Ensure both files use the same CRS\n",
    "        if points.crs != crowns.crs:\n",
    "            points = points.to_crs(crowns.crs)\n",
    "\n",
    "        # Perform a spatial join to get polygons that have overlapping points\n",
    "        joined = gpd.sjoin(crowns, points, how=\"inner\", op=\"intersects\")\n",
    "\n",
    "        # Select unique polygons from the join result\n",
    "        masked_crowns = crowns[crowns.index.isin(joined.index)]\n",
    "\n",
    "        # Add the 'Species_Co' column from point_file to the crown_file\n",
    "        if not masked_crowns.empty:\n",
    "            masked_crowns_sp = masked_crowns.assign(Species_Co=joined['Species_Co'].values)\n",
    "\n",
    "            # Export the masked crowns to a new shapefile\n",
    "            output_filepath = os.path.join(output_directory, f\"{crown_filename}\")\n",
    "            masked_crowns_sp.to_file(output_filepath)\n",
    "\n",
    "            print(f\"Processed and saved: {output_filepath}\")\n",
    "        else:\n",
    "            print(f\"Skipped: {crown_filename} (no overlapping polygons)\")\n",
    "\n",
    "print(\"Processing complete for all crown files.\")\n"
   ]
  },
  {
   "cell_type": "code",
   "execution_count": null,
   "id": "6f347209-fe73-4230-be08-05e288fe23ad",
   "metadata": {},
   "outputs": [],
   "source": [
    "# Edit shp file name just remove '_combined' from each shp files"
   ]
  },
  {
   "cell_type": "code",
   "execution_count": null,
   "id": "d03e312a-3d8c-4b25-a790-33d964cb828b",
   "metadata": {},
   "outputs": [],
   "source": [
    "import os\n",
    "import shutil\n",
    "import glob\n",
    "\n",
    "# Define the directories\n",
    "crowns_directory = \"D:/E/Delet/yolo/shp_clip/spp/\"\n",
    "output_directory = \"D:/E/Delet/yolo/shp_clip/spp_edit/\"\n",
    "\n",
    "# Ensure the output directory exists\n",
    "os.makedirs(output_directory, exist_ok=True)\n",
    "\n",
    "# Find all .shp files in the crowns_directory\n",
    "shp_files = glob.glob(os.path.join(crowns_directory, \"*\"))\n",
    "\n",
    "# Process each .shp file\n",
    "for shp_file in shp_files:\n",
    "    # Get the base name of the file\n",
    "    base_name = os.path.basename(shp_file)\n",
    "    \n",
    "    # Remove '_combined' from the filename\n",
    "    new_name = base_name.replace('_combined', '')\n",
    "    \n",
    "    # Define the new path for the output file\n",
    "    output_file = os.path.join(output_directory, new_name)\n",
    "    \n",
    "    # Copy the file to the new directory with the new name\n",
    "    shutil.copyfile(shp_file, output_file)\n",
    "    \n",
    "    print(f\"Copied {shp_file} to {output_file}\")\n",
    "\n",
    "print(\"Processing complete.\")\n"
   ]
  }
 ],
 "metadata": {
  "kernelspec": {
   "display_name": "Python 3 (ipykernel)",
   "language": "python",
   "name": "python3"
  },
  "language_info": {
   "codemirror_mode": {
    "name": "ipython",
    "version": 3
   },
   "file_extension": ".py",
   "mimetype": "text/x-python",
   "name": "python",
   "nbconvert_exporter": "python",
   "pygments_lexer": "ipython3",
   "version": "3.8.19"
  }
 },
 "nbformat": 4,
 "nbformat_minor": 5
}
